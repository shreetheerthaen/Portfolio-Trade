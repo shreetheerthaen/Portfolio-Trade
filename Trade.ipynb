{
 "cells": [
  {
   "cell_type": "code",
   "execution_count": 139,
   "metadata": {},
   "outputs": [],
   "source": [
    "#Importing Libraries\n",
    "import numpy as np\n",
    "import pandas as pd\n",
    "import talib"
   ]
  },
  {
   "cell_type": "code",
   "execution_count": 140,
   "metadata": {},
   "outputs": [],
   "source": [
    "#Setting the random seed to a fixed number\n",
    "import random\n",
    "random.seed(42)"
   ]
  },
  {
   "cell_type": "code",
   "execution_count": 141,
   "metadata": {},
   "outputs": [
    {
     "data": {
      "text/html": [
       "<div>\n",
       "<style scoped>\n",
       "    .dataframe tbody tr th:only-of-type {\n",
       "        vertical-align: middle;\n",
       "    }\n",
       "\n",
       "    .dataframe tbody tr th {\n",
       "        vertical-align: top;\n",
       "    }\n",
       "\n",
       "    .dataframe thead th {\n",
       "        text-align: right;\n",
       "    }\n",
       "</style>\n",
       "<table border=\"1\" class=\"dataframe\">\n",
       "  <thead>\n",
       "    <tr style=\"text-align: right;\">\n",
       "      <th></th>\n",
       "      <th>Date</th>\n",
       "      <th>Open</th>\n",
       "      <th>High</th>\n",
       "      <th>Low</th>\n",
       "      <th>Close</th>\n",
       "      <th>Adj Close</th>\n",
       "      <th>Volume</th>\n",
       "    </tr>\n",
       "  </thead>\n",
       "  <tbody>\n",
       "    <tr>\n",
       "      <th>0</th>\n",
       "      <td>2015-02-11</td>\n",
       "      <td>560.982910</td>\n",
       "      <td>565.336182</td>\n",
       "      <td>547.477783</td>\n",
       "      <td>552.968872</td>\n",
       "      <td>552.744995</td>\n",
       "      <td>4637550.0</td>\n",
       "    </tr>\n",
       "    <tr>\n",
       "      <th>1</th>\n",
       "      <td>2015-02-12</td>\n",
       "      <td>556.233826</td>\n",
       "      <td>559.993530</td>\n",
       "      <td>546.636780</td>\n",
       "      <td>555.838074</td>\n",
       "      <td>555.613037</td>\n",
       "      <td>5488927.0</td>\n",
       "    </tr>\n",
       "    <tr>\n",
       "      <th>2</th>\n",
       "      <td>2015-02-13</td>\n",
       "      <td>556.728516</td>\n",
       "      <td>561.180786</td>\n",
       "      <td>549.110229</td>\n",
       "      <td>559.548279</td>\n",
       "      <td>559.321777</td>\n",
       "      <td>3506531.0</td>\n",
       "    </tr>\n",
       "    <tr>\n",
       "      <th>3</th>\n",
       "      <td>2015-02-16</td>\n",
       "      <td>562.961670</td>\n",
       "      <td>574.290161</td>\n",
       "      <td>559.498840</td>\n",
       "      <td>568.057007</td>\n",
       "      <td>567.827026</td>\n",
       "      <td>5793607.0</td>\n",
       "    </tr>\n",
       "    <tr>\n",
       "      <th>4</th>\n",
       "      <td>2015-02-18</td>\n",
       "      <td>566.622437</td>\n",
       "      <td>580.770630</td>\n",
       "      <td>554.700256</td>\n",
       "      <td>578.099304</td>\n",
       "      <td>577.865295</td>\n",
       "      <td>5846505.0</td>\n",
       "    </tr>\n",
       "  </tbody>\n",
       "</table>\n",
       "</div>"
      ],
      "text/plain": [
       "         Date        Open        High         Low       Close   Adj Close  \\\n",
       "0  2015-02-11  560.982910  565.336182  547.477783  552.968872  552.744995   \n",
       "1  2015-02-12  556.233826  559.993530  546.636780  555.838074  555.613037   \n",
       "2  2015-02-13  556.728516  561.180786  549.110229  559.548279  559.321777   \n",
       "3  2015-02-16  562.961670  574.290161  559.498840  568.057007  567.827026   \n",
       "4  2015-02-18  566.622437  580.770630  554.700256  578.099304  577.865295   \n",
       "\n",
       "      Volume  \n",
       "0  4637550.0  \n",
       "1  5488927.0  \n",
       "2  3506531.0  \n",
       "3  5793607.0  \n",
       "4  5846505.0  "
      ]
     },
     "execution_count": 141,
     "metadata": {},
     "output_type": "execute_result"
    }
   ],
   "source": [
    "#Importing the dataset\n",
    "dataset = pd.read_csv(r'C:\\Users\\HP\\Desktop\\TATAMOTORS.csv')\n",
    "dataset.head()"
   ]
  },
  {
   "cell_type": "code",
   "execution_count": 142,
   "metadata": {},
   "outputs": [],
   "source": [
    "dataset = dataset.dropna()\n",
    "dataset = dataset[['Open', 'High', 'Low', 'Close']]"
   ]
  },
  {
   "cell_type": "code",
   "execution_count": 143,
   "metadata": {},
   "outputs": [],
   "source": [
    "#Preparing the dataset\n",
    "#input features\n",
    "dataset['H-L'] = dataset['High'] - dataset['Low']\n",
    "dataset['O-C'] = dataset['Close'] - dataset['Open']\n",
    "dataset['3day MA'] = dataset['Close'].shift(1).rolling(window = 3).mean()\n",
    "dataset['10day MA'] = dataset['Close'].shift(1).rolling(window = 10).mean()\n",
    "dataset['30day MA'] = dataset['Close'].shift(1).rolling(window = 30).mean()\n",
    "dataset['Std_dev']= dataset['Close'].rolling(5).std()\n",
    "dataset['RSI'] = talib.RSI(dataset['Close'].values, timeperiod = 9)\n",
    "dataset['Williams %R'] = talib.WILLR(dataset['High'].values, dataset['Low'].values, dataset['Close'].values, 7)"
   ]
  },
  {
   "cell_type": "code",
   "execution_count": 144,
   "metadata": {},
   "outputs": [],
   "source": [
    "#define output value\n",
    "dataset['Price_Rise'] = np.where(dataset['Close'].shift(-1) > dataset['Close'], 1, 0)\n",
    "dataset = dataset.dropna()"
   ]
  },
  {
   "cell_type": "code",
   "execution_count": 145,
   "metadata": {},
   "outputs": [],
   "source": [
    "X = dataset.iloc[:, 4:-1]\n",
    "y = dataset.iloc[:, -1]"
   ]
  },
  {
   "cell_type": "code",
   "execution_count": 146,
   "metadata": {},
   "outputs": [],
   "source": [
    "#Splitting the dataset\n",
    "split = int(len(dataset)*0.8)\n",
    "X_train, X_test, y_train, y_test = X[:split], X[split:], y[:split], y[split:]"
   ]
  },
  {
   "cell_type": "code",
   "execution_count": 147,
   "metadata": {},
   "outputs": [],
   "source": [
    "#standardising\n",
    "#Feature Scalingfrom sklearn.preprocessing import StandardScaler\n",
    "sc = StandardScaler()\n",
    "X_train = sc.fit_transform(X_train)\n",
    "X_test = sc.transform(X_test)"
   ]
  },
  {
   "cell_type": "code",
   "execution_count": 148,
   "metadata": {},
   "outputs": [],
   "source": [
    "#Building the Artificial Neural Network\n",
    "from keras.models import Sequential\n",
    "from keras.layers import Dense\n",
    "from keras.layers import Dropout"
   ]
  },
  {
   "cell_type": "code",
   "execution_count": 149,
   "metadata": {},
   "outputs": [],
   "source": [
    "classifier = Sequential()"
   ]
  },
  {
   "cell_type": "code",
   "execution_count": 150,
   "metadata": {},
   "outputs": [],
   "source": [
    "classifier.add(Dense(units = 128, kernel_initializer = 'uniform', activation = 'relu', input_dim = X.shape[1]))"
   ]
  },
  {
   "cell_type": "code",
   "execution_count": 151,
   "metadata": {},
   "outputs": [],
   "source": [
    "classifier.add(Dense(units = 128, kernel_initializer = 'uniform', activation = 'relu'))"
   ]
  },
  {
   "cell_type": "code",
   "execution_count": 152,
   "metadata": {},
   "outputs": [],
   "source": [
    "classifier.add(Dense(units = 1, kernel_initializer = 'uniform', activation = 'sigmoid'))"
   ]
  },
  {
   "cell_type": "code",
   "execution_count": 153,
   "metadata": {},
   "outputs": [],
   "source": [
    "#compliling the classifier\n",
    "classifier.compile(optimizer = 'adam', loss = 'mean_squared_error', metrics = ['accuracy'])"
   ]
  },
  {
   "cell_type": "code",
   "execution_count": 154,
   "metadata": {},
   "outputs": [
    {
     "name": "stdout",
     "output_type": "stream",
     "text": [
      "Epoch 1/100\n",
      "119/119 [==============================] - 1s 1ms/step - loss: 0.2499 - accuracy: 0.5041\n",
      "Epoch 2/100\n",
      "119/119 [==============================] - 0s 1ms/step - loss: 0.2486 - accuracy: 0.5506\n",
      "Epoch 3/100\n",
      "119/119 [==============================] - 0s 938us/step - loss: 0.2477 - accuracy: 0.5374\n",
      "Epoch 4/100\n",
      "119/119 [==============================] - 0s 997us/step - loss: 0.2453 - accuracy: 0.5538\n",
      "Epoch 5/100\n",
      "119/119 [==============================] - 0s 972us/step - loss: 0.2435 - accuracy: 0.5540\n",
      "Epoch 6/100\n",
      "119/119 [==============================] - 0s 913us/step - loss: 0.2435 - accuracy: 0.5586\n",
      "Epoch 7/100\n",
      "119/119 [==============================] - 0s 1ms/step - loss: 0.2442 - accuracy: 0.5468\n",
      "Epoch 8/100\n",
      "119/119 [==============================] - 0s 1ms/step - loss: 0.2412 - accuracy: 0.5694\n",
      "Epoch 9/100\n",
      "119/119 [==============================] - 0s 980us/step - loss: 0.2381 - accuracy: 0.5579\n",
      "Epoch 10/100\n",
      "119/119 [==============================] - 0s 1ms/step - loss: 0.2453 - accuracy: 0.5596\n",
      "Epoch 11/100\n",
      "119/119 [==============================] - 0s 1ms/step - loss: 0.2465 - accuracy: 0.5212\n",
      "Epoch 12/100\n",
      "119/119 [==============================] - 0s 921us/step - loss: 0.2404 - accuracy: 0.5674\n",
      "Epoch 13/100\n",
      "119/119 [==============================] - 0s 1ms/step - loss: 0.2375 - accuracy: 0.5661\n",
      "Epoch 14/100\n",
      "119/119 [==============================] - 0s 1ms/step - loss: 0.2394 - accuracy: 0.5849\n",
      "Epoch 15/100\n",
      "119/119 [==============================] - 0s 1ms/step - loss: 0.2342 - accuracy: 0.5809\n",
      "Epoch 16/100\n",
      "119/119 [==============================] - 0s 947us/step - loss: 0.2379 - accuracy: 0.5768\n",
      "Epoch 17/100\n",
      "119/119 [==============================] - 0s 997us/step - loss: 0.2360 - accuracy: 0.5868\n",
      "Epoch 18/100\n",
      "119/119 [==============================] - 0s 1ms/step - loss: 0.2321 - accuracy: 0.5984\n",
      "Epoch 19/100\n",
      "119/119 [==============================] - 0s 1ms/step - loss: 0.2333 - accuracy: 0.5877\n",
      "Epoch 20/100\n",
      "119/119 [==============================] - 0s 1ms/step - loss: 0.2359 - accuracy: 0.5845\n",
      "Epoch 21/100\n",
      "119/119 [==============================] - 0s 930us/step - loss: 0.2336 - accuracy: 0.5972\n",
      "Epoch 22/100\n",
      "119/119 [==============================] - 0s 989us/step - loss: 0.2333 - accuracy: 0.6002\n",
      "Epoch 23/100\n",
      "119/119 [==============================] - 0s 1ms/step - loss: 0.2288 - accuracy: 0.6091\n",
      "Epoch 24/100\n",
      "119/119 [==============================] - 0s 887us/step - loss: 0.2356 - accuracy: 0.5989\n",
      "Epoch 25/100\n",
      "119/119 [==============================] - 0s 947us/step - loss: 0.2261 - accuracy: 0.6178\n",
      "Epoch 26/100\n",
      "119/119 [==============================] - 0s 947us/step - loss: 0.2279 - accuracy: 0.6321\n",
      "Epoch 27/100\n",
      "119/119 [==============================] - 0s 1ms/step - loss: 0.2279 - accuracy: 0.6330\n",
      "Epoch 28/100\n",
      "119/119 [==============================] - 0s 1ms/step - loss: 0.2248 - accuracy: 0.6119\n",
      "Epoch 29/100\n",
      "119/119 [==============================] - 0s 2ms/step - loss: 0.2269 - accuracy: 0.6171\n",
      "Epoch 30/100\n",
      "119/119 [==============================] - 0s 1ms/step - loss: 0.2238 - accuracy: 0.6297\n",
      "Epoch 31/100\n",
      "119/119 [==============================] - 0s 1ms/step - loss: 0.2250 - accuracy: 0.6321\n",
      "Epoch 32/100\n",
      "119/119 [==============================] - 0s 913us/step - loss: 0.2154 - accuracy: 0.6626\n",
      "Epoch 33/100\n",
      "119/119 [==============================] - 0s 1ms/step - loss: 0.2179 - accuracy: 0.6406\n",
      "Epoch 34/100\n",
      "119/119 [==============================] - 0s 1ms/step - loss: 0.2148 - accuracy: 0.6442\n",
      "Epoch 35/100\n",
      "119/119 [==============================] - 0s 2ms/step - loss: 0.2156 - accuracy: 0.6468\n",
      "Epoch 36/100\n",
      "119/119 [==============================] - 0s 2ms/step - loss: 0.2124 - accuracy: 0.6476\n",
      "Epoch 37/100\n",
      "119/119 [==============================] - 0s 2ms/step - loss: 0.2186 - accuracy: 0.6421\n",
      "Epoch 38/100\n",
      "119/119 [==============================] - 0s 2ms/step - loss: 0.2107 - accuracy: 0.6461\n",
      "Epoch 39/100\n",
      "119/119 [==============================] - 0s 1ms/step - loss: 0.2155 - accuracy: 0.6318\n",
      "Epoch 40/100\n",
      "119/119 [==============================] - 0s 1ms/step - loss: 0.2147 - accuracy: 0.6372\n",
      "Epoch 41/100\n",
      "119/119 [==============================] - 0s 2ms/step - loss: 0.2110 - accuracy: 0.6534\n",
      "Epoch 42/100\n",
      "119/119 [==============================] - 0s 1ms/step - loss: 0.2079 - accuracy: 0.6412\n",
      "Epoch 43/100\n",
      "119/119 [==============================] - 0s 2ms/step - loss: 0.2108 - accuracy: 0.6597\n",
      "Epoch 44/100\n",
      "119/119 [==============================] - 0s 2ms/step - loss: 0.2034 - accuracy: 0.6820\n",
      "Epoch 45/100\n",
      "119/119 [==============================] - 0s 1ms/step - loss: 0.2118 - accuracy: 0.6352\n",
      "Epoch 46/100\n",
      "119/119 [==============================] - 0s 1ms/step - loss: 0.2040 - accuracy: 0.6637\n",
      "Epoch 47/100\n",
      "119/119 [==============================] - 0s 1ms/step - loss: 0.2009 - accuracy: 0.6931\n",
      "Epoch 48/100\n",
      "119/119 [==============================] - 0s 1ms/step - loss: 0.1988 - accuracy: 0.6666\n",
      "Epoch 49/100\n",
      "119/119 [==============================] - 0s 2ms/step - loss: 0.1987 - accuracy: 0.6745\n",
      "Epoch 50/100\n",
      "119/119 [==============================] - 0s 2ms/step - loss: 0.1968 - accuracy: 0.6984\n",
      "Epoch 51/100\n",
      "119/119 [==============================] - 0s 2ms/step - loss: 0.1910 - accuracy: 0.6992\n",
      "Epoch 52/100\n",
      "119/119 [==============================] - 0s 1ms/step - loss: 0.1973 - accuracy: 0.7002\n",
      "Epoch 53/100\n",
      "119/119 [==============================] - 0s 980us/step - loss: 0.1967 - accuracy: 0.6947\n",
      "Epoch 54/100\n",
      "119/119 [==============================] - 0s 1ms/step - loss: 0.2011 - accuracy: 0.6736\n",
      "Epoch 55/100\n",
      "119/119 [==============================] - 0s 1ms/step - loss: 0.1974 - accuracy: 0.6889\n",
      "Epoch 56/100\n",
      "119/119 [==============================] - 0s 1ms/step - loss: 0.1962 - accuracy: 0.6948\n",
      "Epoch 57/100\n",
      "119/119 [==============================] - 0s 837us/step - loss: 0.1865 - accuracy: 0.7093\n",
      "Epoch 58/100\n",
      "119/119 [==============================] - 0s 837us/step - loss: 0.1879 - accuracy: 0.7146\n",
      "Epoch 59/100\n",
      "119/119 [==============================] - 0s 2ms/step - loss: 0.1959 - accuracy: 0.6958\n",
      "Epoch 60/100\n",
      "119/119 [==============================] - 0s 1ms/step - loss: 0.1937 - accuracy: 0.7070\n",
      "Epoch 61/100\n",
      "119/119 [==============================] - 0s 921us/step - loss: 0.1892 - accuracy: 0.7151\n",
      "Epoch 62/100\n",
      "119/119 [==============================] - 0s 1ms/step - loss: 0.1834 - accuracy: 0.7183\n",
      "Epoch 63/100\n",
      "119/119 [==============================] - 0s 955us/step - loss: 0.1810 - accuracy: 0.7167\n",
      "Epoch 64/100\n",
      "119/119 [==============================] - 0s 1ms/step - loss: 0.1934 - accuracy: 0.6864\n",
      "Epoch 65/100\n",
      "119/119 [==============================] - 0s 1ms/step - loss: 0.1910 - accuracy: 0.7021\n",
      "Epoch 66/100\n",
      "119/119 [==============================] - 0s 1ms/step - loss: 0.1763 - accuracy: 0.7163\n",
      "Epoch 67/100\n",
      "119/119 [==============================] - 0s 1ms/step - loss: 0.1873 - accuracy: 0.7141\n",
      "Epoch 68/100\n",
      "119/119 [==============================] - 0s 1ms/step - loss: 0.1720 - accuracy: 0.7561\n",
      "Epoch 69/100\n",
      "119/119 [==============================] - 0s 1ms/step - loss: 0.1803 - accuracy: 0.7272\n",
      "Epoch 70/100\n",
      "119/119 [==============================] - 0s 1ms/step - loss: 0.1736 - accuracy: 0.7533\n",
      "Epoch 71/100\n",
      "119/119 [==============================] - 0s 913us/step - loss: 0.1705 - accuracy: 0.7504\n",
      "Epoch 72/100\n",
      "119/119 [==============================] - 0s 2ms/step - loss: 0.1693 - accuracy: 0.7643\n",
      "Epoch 73/100\n",
      "119/119 [==============================] - 0s 1ms/step - loss: 0.1740 - accuracy: 0.7712\n",
      "Epoch 74/100\n",
      "119/119 [==============================] - 0s 980us/step - loss: 0.1753 - accuracy: 0.7716\n",
      "Epoch 75/100\n",
      "119/119 [==============================] - 0s 938us/step - loss: 0.1729 - accuracy: 0.7359\n",
      "Epoch 76/100\n",
      "119/119 [==============================] - 0s 980us/step - loss: 0.1656 - accuracy: 0.7716\n",
      "Epoch 77/100\n",
      "119/119 [==============================] - 0s 1ms/step - loss: 0.1683 - accuracy: 0.7689\n",
      "Epoch 78/100\n",
      "119/119 [==============================] - 0s 1ms/step - loss: 0.1644 - accuracy: 0.7645\n",
      "Epoch 79/100\n",
      "119/119 [==============================] - 0s 2ms/step - loss: 0.1578 - accuracy: 0.7861\n",
      "Epoch 80/100\n",
      "119/119 [==============================] - 0s 1ms/step - loss: 0.1649 - accuracy: 0.7609\n"
     ]
    },
    {
     "name": "stdout",
     "output_type": "stream",
     "text": [
      "Epoch 81/100\n",
      "119/119 [==============================] - 0s 1ms/step - loss: 0.1587 - accuracy: 0.7818\n",
      "Epoch 82/100\n",
      "119/119 [==============================] - 0s 1ms/step - loss: 0.1579 - accuracy: 0.7732\n",
      "Epoch 83/100\n",
      "119/119 [==============================] - 0s 871us/step - loss: 0.1658 - accuracy: 0.7707\n",
      "Epoch 84/100\n",
      "119/119 [==============================] - 0s 989us/step - loss: 0.1666 - accuracy: 0.7637\n",
      "Epoch 85/100\n",
      "119/119 [==============================] - 0s 1ms/step - loss: 0.1574 - accuracy: 0.7861\n",
      "Epoch 86/100\n",
      "119/119 [==============================] - 0s 2ms/step - loss: 0.1587 - accuracy: 0.7707\n",
      "Epoch 87/100\n",
      "119/119 [==============================] - 0s 980us/step - loss: 0.1663 - accuracy: 0.7465\n",
      "Epoch 88/100\n",
      "119/119 [==============================] - 0s 930us/step - loss: 0.1595 - accuracy: 0.7609\n",
      "Epoch 89/100\n",
      "119/119 [==============================] - 0s 1ms/step - loss: 0.1545 - accuracy: 0.7943\n",
      "Epoch 90/100\n",
      "119/119 [==============================] - 0s 1ms/step - loss: 0.1641 - accuracy: 0.7722\n",
      "Epoch 91/100\n",
      "119/119 [==============================] - 0s 921us/step - loss: 0.1501 - accuracy: 0.7903\n",
      "Epoch 92/100\n",
      "119/119 [==============================] - 0s 955us/step - loss: 0.1531 - accuracy: 0.7938\n",
      "Epoch 93/100\n",
      "119/119 [==============================] - 0s 1ms/step - loss: 0.1588 - accuracy: 0.7810\n",
      "Epoch 94/100\n",
      "119/119 [==============================] - 0s 2ms/step - loss: 0.1574 - accuracy: 0.7751\n",
      "Epoch 95/100\n",
      "119/119 [==============================] - 0s 1ms/step - loss: 0.1532 - accuracy: 0.8057\n",
      "Epoch 96/100\n",
      "119/119 [==============================] - 0s 1ms/step - loss: 0.1494 - accuracy: 0.7961\n",
      "Epoch 97/100\n",
      "119/119 [==============================] - 0s 930us/step - loss: 0.1533 - accuracy: 0.7862\n",
      "Epoch 98/100\n",
      "119/119 [==============================] - 0s 989us/step - loss: 0.1544 - accuracy: 0.7737\n",
      "Epoch 99/100\n",
      "119/119 [==============================] - 0s 1ms/step - loss: 0.1416 - accuracy: 0.8165\n",
      "Epoch 100/100\n",
      "119/119 [==============================] - 0s 1ms/step - loss: 0.1365 - accuracy: 0.8336\n"
     ]
    },
    {
     "data": {
      "text/plain": [
       "<keras.callbacks.History at 0x1bba149b700>"
      ]
     },
     "execution_count": 154,
     "metadata": {},
     "output_type": "execute_result"
    }
   ],
   "source": [
    "#fit the neural network to train\n",
    "classifier.fit(X_train, y_train, batch_size = 10, epochs = 100)"
   ]
  },
  {
   "cell_type": "code",
   "execution_count": 155,
   "metadata": {},
   "outputs": [],
   "source": [
    "#Predicting the movement of the stock\n",
    "y_pred = classifier.predict(X_test)\n",
    "y_pred = (y_pred > 0.5)"
   ]
  },
  {
   "cell_type": "code",
   "execution_count": 156,
   "metadata": {},
   "outputs": [],
   "source": [
    "dataset['y_pred'] = np.NaN\n",
    "dataset.iloc[(len(dataset) - len(y_pred)):,-1:] = y_pred\n",
    "trade_dataset = dataset.dropna()"
   ]
  },
  {
   "cell_type": "code",
   "execution_count": 157,
   "metadata": {},
   "outputs": [
    {
     "name": "stderr",
     "output_type": "stream",
     "text": [
      "<ipython-input-157-b2d30d26e7f3>:2: SettingWithCopyWarning: \n",
      "A value is trying to be set on a copy of a slice from a DataFrame.\n",
      "Try using .loc[row_indexer,col_indexer] = value instead\n",
      "\n",
      "See the caveats in the documentation: https://pandas.pydata.org/pandas-docs/stable/user_guide/indexing.html#returning-a-view-versus-a-copy\n",
      "  trade_dataset['Tomorrows Returns'] = 0.\n",
      "<ipython-input-157-b2d30d26e7f3>:3: SettingWithCopyWarning: \n",
      "A value is trying to be set on a copy of a slice from a DataFrame.\n",
      "Try using .loc[row_indexer,col_indexer] = value instead\n",
      "\n",
      "See the caveats in the documentation: https://pandas.pydata.org/pandas-docs/stable/user_guide/indexing.html#returning-a-view-versus-a-copy\n",
      "  trade_dataset['Tomorrows Returns'] = np.log(trade_dataset['Close']/trade_dataset['Close'].shift(1))\n",
      "<ipython-input-157-b2d30d26e7f3>:4: SettingWithCopyWarning: \n",
      "A value is trying to be set on a copy of a slice from a DataFrame.\n",
      "Try using .loc[row_indexer,col_indexer] = value instead\n",
      "\n",
      "See the caveats in the documentation: https://pandas.pydata.org/pandas-docs/stable/user_guide/indexing.html#returning-a-view-versus-a-copy\n",
      "  trade_dataset['Tomorrows Returns'] = trade_dataset['Tomorrows Returns'].shift(-1)\n"
     ]
    }
   ],
   "source": [
    "#Computing Strategy Returns\n",
    "trade_dataset['Tomorrows Returns'] = 0.\n",
    "trade_dataset['Tomorrows Returns'] = np.log(trade_dataset['Close']/trade_dataset['Close'].shift(1))\n",
    "trade_dataset['Tomorrows Returns'] = trade_dataset['Tomorrows Returns'].shift(-1)"
   ]
  },
  {
   "cell_type": "code",
   "execution_count": 158,
   "metadata": {},
   "outputs": [
    {
     "name": "stderr",
     "output_type": "stream",
     "text": [
      "<ipython-input-158-c8d278af7601>:1: SettingWithCopyWarning: \n",
      "A value is trying to be set on a copy of a slice from a DataFrame.\n",
      "Try using .loc[row_indexer,col_indexer] = value instead\n",
      "\n",
      "See the caveats in the documentation: https://pandas.pydata.org/pandas-docs/stable/user_guide/indexing.html#returning-a-view-versus-a-copy\n",
      "  trade_dataset['Strategy Returns'] = 0.\n",
      "<ipython-input-158-c8d278af7601>:2: SettingWithCopyWarning: \n",
      "A value is trying to be set on a copy of a slice from a DataFrame.\n",
      "Try using .loc[row_indexer,col_indexer] = value instead\n",
      "\n",
      "See the caveats in the documentation: https://pandas.pydata.org/pandas-docs/stable/user_guide/indexing.html#returning-a-view-versus-a-copy\n",
      "  trade_dataset['Strategy Returns'] = np.where(trade_dataset['y_pred'] == True, trade_dataset['Tomorrows Returns'], - trade_dataset['Tomorrows Returns'])\n"
     ]
    }
   ],
   "source": [
    "trade_dataset['Strategy Returns'] = 0.\n",
    "trade_dataset['Strategy Returns'] = np.where(trade_dataset['y_pred'] == True, trade_dataset['Tomorrows Returns'], - trade_dataset['Tomorrows Returns'])"
   ]
  },
  {
   "cell_type": "code",
   "execution_count": 159,
   "metadata": {},
   "outputs": [
    {
     "name": "stderr",
     "output_type": "stream",
     "text": [
      "<ipython-input-159-c41e1247ab30>:1: SettingWithCopyWarning: \n",
      "A value is trying to be set on a copy of a slice from a DataFrame.\n",
      "Try using .loc[row_indexer,col_indexer] = value instead\n",
      "\n",
      "See the caveats in the documentation: https://pandas.pydata.org/pandas-docs/stable/user_guide/indexing.html#returning-a-view-versus-a-copy\n",
      "  trade_dataset['Cumulative Market Returns'] = np.cumsum(trade_dataset['Tomorrows Returns'])\n",
      "<ipython-input-159-c41e1247ab30>:2: SettingWithCopyWarning: \n",
      "A value is trying to be set on a copy of a slice from a DataFrame.\n",
      "Try using .loc[row_indexer,col_indexer] = value instead\n",
      "\n",
      "See the caveats in the documentation: https://pandas.pydata.org/pandas-docs/stable/user_guide/indexing.html#returning-a-view-versus-a-copy\n",
      "  trade_dataset['Cumulative Strategy Returns'] = np.cumsum(trade_dataset['Strategy Returns'])\n"
     ]
    }
   ],
   "source": [
    "trade_dataset['Cumulative Market Returns'] = np.cumsum(trade_dataset['Tomorrows Returns'])\n",
    "trade_dataset['Cumulative Strategy Returns'] = np.cumsum(trade_dataset['Strategy Returns'])"
   ]
  },
  {
   "cell_type": "code",
   "execution_count": 160,
   "metadata": {},
   "outputs": [
    {
     "data": {
      "image/png": "[encoded data removed]",
      "text/plain": [
       "<Figure size 720x360 with 1 Axes>"
      ]
     },
     "metadata": {
      "needs_background": "light"
     },
     "output_type": "display_data"
    }
   ],
   "source": [
    "#Plotting the graph of returns\n",
    "import matplotlib.pyplot as plt\n",
    "plt.figure(figsize=(10,5))\n",
    "plt.plot(trade_dataset['Cumulative Market Returns'], color='r', label='Market Returns')\n",
    "plt.plot(trade_dataset['Cumulative Strategy Returns'], color='g', label='Strategy Returns')\n",
    "plt.legend()\n",
    "plt.show()"
   ]
  },
  {
   "cell_type": "code",
   "execution_count": 161,
   "metadata": {},
   "outputs": [],
   "source": [
    "stk_APPL_mean = dataset['y_pred'].mean()\n",
    "stk_vol_APPL_mean = dataset['y_pred'].mean()"
   ]
  },
  {
   "cell_type": "code",
   "execution_count": 162,
   "metadata": {},
   "outputs": [],
   "source": [
    "from __future__ import division\n",
    "import random\n",
    "import math\n"
   ]
  },
  {
   "cell_type": "code",
   "execution_count": 163,
   "metadata": {},
   "outputs": [
    {
     "name": "stdout",
     "output_type": "stream",
     "text": [
      "FINAL:\n",
      "Best stock price for given group :  [-1.4180434754221803e-46, 2.020732071053954e-46]\n",
      "Possible error price for given group :  6.094205401173418e-92\n"
     ]
    },
    {
     "data": {
      "text/plain": [
       "<__main__.PSO at 0x1bba14b7190>"
      ]
     },
     "execution_count": 163,
     "metadata": {},
     "output_type": "execute_result"
    }
   ],
   "source": [
    "#Cost function\n",
    "def func1(x):\n",
    "    total=0\n",
    "    for i in range(len(x)):\n",
    "        total+=x[i]**2\n",
    "    return total\n",
    "\n",
    "#Defining Particle class\n",
    "class Particle:\n",
    "    def __init__(self,x0):\n",
    "        self.position_i=[]\n",
    "        self.velocity_i=[]\n",
    "        self.pos_best_i=[]\n",
    "        self.err_best_i=-1\n",
    "        self.err_i=-1\n",
    "        for i in range(0,num_dimensions):\n",
    "            self.velocity_i.append(random.uniform(-1,1))\n",
    "            self.position_i.append(x0[i])\n",
    "\n",
    "    def evaluate(self,costFunc):\n",
    "        self.err_i=costFunc(self.position_i)\n",
    "        if self.err_i < self.err_best_i or self.err_best_i==-1:\n",
    "            self.pos_best_i=self.position_i\n",
    "            self.err_best_i=self.err_i\n",
    "\n",
    "    def update_velocity(self,pos_best_g):\n",
    "        w=0.5\n",
    "        c1=1\n",
    "        c2=2\n",
    "        for i in range(0,num_dimensions):\n",
    "            r1=random.random()\n",
    "            r2=random.random()\n",
    "            vel_cognitive=c1*r1*(self.pos_best_i[i]-self.position_i[i])\n",
    "            vel_social=c2*r2*(pos_best_g[i]-self.position_i[i])\n",
    "            self.velocity_i[i]=w*self.velocity_i[i]+vel_cognitive+vel_social\n",
    "\n",
    "    def update_position(self,bounds):\n",
    "        for i in range(0,num_dimensions):\n",
    "            self.position_i[i]=self.position_i[i]+self.velocity_i[i]\n",
    "            if self.position_i[i]>bounds[i][1]:\n",
    "                self.position_i[i]=bounds[i][1]\n",
    "            if self.position_i[i] < bounds[i][0]:\n",
    "                self.position_i[i]=bounds[i][0]\n",
    "\n",
    "#PSO algorithm\n",
    "class PSO():\n",
    "    def __init__(self,costFunc,x0,bounds,num_particles,maxiter):\n",
    "        global num_dimensions\n",
    "        num_dimensions=len(x0)\n",
    "        err_best_g=-1\n",
    "        pos_best_g=[]\n",
    "        swarm=[]\n",
    "        for i in range(0,num_particles):\n",
    "            swarm.append(Particle(x0))\n",
    "        i=0\n",
    "        while i < maxiter:\n",
    "            for j in range(0,num_particles):\n",
    "                swarm[j].evaluate(costFunc)\n",
    "                if swarm[j].err_i < err_best_g or err_best_g == -1:\n",
    "                    pos_best_g=list(swarm[j].position_i)\n",
    "                    err_best_g=float(swarm[j].err_i)\n",
    "            for j in range(0,num_particles):\n",
    "                swarm[j].update_velocity(pos_best_g)\n",
    "                swarm[j].update_position(bounds)\n",
    "            i+=1\n",
    "        print('FINAL:')\n",
    "        print('Best stock price for given group : ',pos_best_g)\n",
    "        print('Possible error price for given group : ',err_best_g)\n",
    "\n",
    "if __name__ == \"__PSO__\":\n",
    "    main()\n",
    "\n",
    "initial=[stk_APPL_mean,stk_vol_APPL_mean]\n",
    "bounds=[(-10,10),(-10,10)]\n",
    "PSO(func1,initial,bounds,num_particles=200,maxiter=400)"
   ]
  },
  {
   "cell_type": "code",
   "execution_count": null,
   "metadata": {},
   "outputs": [],
   "source": []
  }
 ],
 "metadata": {
  "kernelspec": {
   "display_name": "Python 3",
   "language": "python",
   "name": "python3"
  },
  "language_info": {
   "codemirror_mode": {
    "name": "ipython",
    "version": 3
   },
   "file_extension": ".py",
   "mimetype": "text/x-python",
   "name": "python",
   "nbconvert_exporter": "python",
   "pygments_lexer": "ipython3",
   "version": "3.8.3"
  }
 },
 "nbformat": 4,
 "nbformat_minor": 4
}
